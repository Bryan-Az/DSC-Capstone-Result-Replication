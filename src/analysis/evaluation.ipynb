{
 "cells": [
  {
   "cell_type": "code",
   "execution_count": 1,
   "id": "27dde600",
   "metadata": {},
   "outputs": [],
   "source": [
    "import sys\n",
    "import os"
   ]
  },
  {
   "cell_type": "code",
   "execution_count": 2,
   "id": "69ed07bf",
   "metadata": {},
   "outputs": [],
   "source": [
    "curr_dir = sys.path[0]\n",
    "\n",
    "src_dir = os.path.abspath(os.path.join(curr_dir, os.pardir))\n",
    "main_dir = os.path.abspath(os.path.join(src_dir, os.pardir))\n",
    "notebooks_dir = os.path.join(main_dir, 'notebooks')"
   ]
  },
  {
   "cell_type": "code",
   "execution_count": 3,
   "id": "f6bb16a8",
   "metadata": {},
   "outputs": [
    {
     "data": {
      "text/plain": [
       "['/home/baambriz/q2_code/src/analysis',\n",
       " '/opt/conda/lib/python39.zip',\n",
       " '/opt/conda/lib/python3.9',\n",
       " '/opt/conda/lib/python3.9/lib-dynload',\n",
       " '',\n",
       " '/home/baambriz/.local/lib/python3.9/site-packages',\n",
       " '/opt/conda/lib/python3.9/site-packages',\n",
       " '/opt/conda/lib/python3.9/site-packages/IPython/extensions',\n",
       " '/home/baambriz/.ipython']"
      ]
     },
     "execution_count": 3,
     "metadata": {},
     "output_type": "execute_result"
    }
   ],
   "source": [
    "sys.path"
   ]
  },
  {
   "cell_type": "markdown",
   "id": "24aa24df",
   "metadata": {},
   "source": [
    "TODO:  Using the checkpoints to load the models used and return output to be visualized"
   ]
  },
  {
   "cell_type": "code",
   "execution_count": 4,
   "id": "9a548db9",
   "metadata": {},
   "outputs": [],
   "source": [
    "import numpy as np\n",
    "import pandas as pd"
   ]
  },
  {
   "cell_type": "markdown",
   "id": "99c54241",
   "metadata": {},
   "source": [
    "# loading q1 results"
   ]
  },
  {
   "cell_type": "markdown",
   "id": "ec34d552",
   "metadata": {},
   "source": [
    "### Fully Connected NN"
   ]
  },
  {
   "cell_type": "code",
   "execution_count": 64,
   "id": "2c3421f8",
   "metadata": {},
   "outputs": [],
   "source": [
    "fcnn_predictions = pd.read_csv(main_dir + '/fcnn_predictions.csv', index_col = False)"
   ]
  },
  {
   "cell_type": "code",
   "execution_count": 65,
   "id": "0cda643c",
   "metadata": {},
   "outputs": [
    {
     "data": {
      "text/plain": [
       "(1451, 4)"
      ]
     },
     "execution_count": 65,
     "metadata": {},
     "output_type": "execute_result"
    }
   ],
   "source": [
    "fcnn_predictions.shape"
   ]
  },
  {
   "cell_type": "code",
   "execution_count": 70,
   "id": "65014007",
   "metadata": {},
   "outputs": [
    {
     "data": {
      "text/html": [
       "<div>\n",
       "<style scoped>\n",
       "    .dataframe tbody tr th:only-of-type {\n",
       "        vertical-align: middle;\n",
       "    }\n",
       "\n",
       "    .dataframe tbody tr th {\n",
       "        vertical-align: top;\n",
       "    }\n",
       "\n",
       "    .dataframe thead th {\n",
       "        text-align: right;\n",
       "    }\n",
       "</style>\n",
       "<table border=\"1\" class=\"dataframe\">\n",
       "  <thead>\n",
       "    <tr style=\"text-align: right;\">\n",
       "      <th></th>\n",
       "      <th>hbb_prediction</th>\n",
       "      <th>qcd_prediction</th>\n",
       "      <th>hbb_label</th>\n",
       "      <th>qcd_label</th>\n",
       "    </tr>\n",
       "  </thead>\n",
       "  <tbody>\n",
       "    <tr>\n",
       "      <th>0</th>\n",
       "      <td>0.565156</td>\n",
       "      <td>0.434844</td>\n",
       "      <td>0.0</td>\n",
       "      <td>1.0</td>\n",
       "    </tr>\n",
       "    <tr>\n",
       "      <th>1</th>\n",
       "      <td>0.756909</td>\n",
       "      <td>0.243091</td>\n",
       "      <td>0.0</td>\n",
       "      <td>1.0</td>\n",
       "    </tr>\n",
       "    <tr>\n",
       "      <th>2</th>\n",
       "      <td>0.878706</td>\n",
       "      <td>0.121294</td>\n",
       "      <td>1.0</td>\n",
       "      <td>0.0</td>\n",
       "    </tr>\n",
       "    <tr>\n",
       "      <th>3</th>\n",
       "      <td>0.827727</td>\n",
       "      <td>0.172273</td>\n",
       "      <td>1.0</td>\n",
       "      <td>0.0</td>\n",
       "    </tr>\n",
       "    <tr>\n",
       "      <th>4</th>\n",
       "      <td>0.995768</td>\n",
       "      <td>0.004232</td>\n",
       "      <td>1.0</td>\n",
       "      <td>0.0</td>\n",
       "    </tr>\n",
       "  </tbody>\n",
       "</table>\n",
       "</div>"
      ],
      "text/plain": [
       "   hbb_prediction  qcd_prediction  hbb_label  qcd_label\n",
       "0        0.565156        0.434844        0.0        1.0\n",
       "1        0.756909        0.243091        0.0        1.0\n",
       "2        0.878706        0.121294        1.0        0.0\n",
       "3        0.827727        0.172273        1.0        0.0\n",
       "4        0.995768        0.004232        1.0        0.0"
      ]
     },
     "execution_count": 70,
     "metadata": {},
     "output_type": "execute_result"
    }
   ],
   "source": [
    "fcnn_predictions.head()"
   ]
  },
  {
   "cell_type": "markdown",
   "id": "29183b01",
   "metadata": {},
   "source": [
    "### Deep Sets NN"
   ]
  },
  {
   "cell_type": "code",
   "execution_count": 67,
   "id": "d44af0ae",
   "metadata": {},
   "outputs": [],
   "source": [
    "dsnn_predictions = pd.read_csv(main_dir + '/dsnn_predictions.csv', index_col=False)"
   ]
  },
  {
   "cell_type": "code",
   "execution_count": 68,
   "id": "7fd50da6",
   "metadata": {},
   "outputs": [
    {
     "data": {
      "text/plain": [
       "(1451, 4)"
      ]
     },
     "execution_count": 68,
     "metadata": {},
     "output_type": "execute_result"
    }
   ],
   "source": [
    "dsnn_predictions.shape"
   ]
  },
  {
   "cell_type": "code",
   "execution_count": 69,
   "id": "684bfdee",
   "metadata": {},
   "outputs": [
    {
     "data": {
      "text/html": [
       "<div>\n",
       "<style scoped>\n",
       "    .dataframe tbody tr th:only-of-type {\n",
       "        vertical-align: middle;\n",
       "    }\n",
       "\n",
       "    .dataframe tbody tr th {\n",
       "        vertical-align: top;\n",
       "    }\n",
       "\n",
       "    .dataframe thead th {\n",
       "        text-align: right;\n",
       "    }\n",
       "</style>\n",
       "<table border=\"1\" class=\"dataframe\">\n",
       "  <thead>\n",
       "    <tr style=\"text-align: right;\">\n",
       "      <th></th>\n",
       "      <th>hbb_prediction</th>\n",
       "      <th>qcd_prediction</th>\n",
       "      <th>hbb_label</th>\n",
       "      <th>qcd_label</th>\n",
       "    </tr>\n",
       "  </thead>\n",
       "  <tbody>\n",
       "    <tr>\n",
       "      <th>0</th>\n",
       "      <td>0.395396</td>\n",
       "      <td>0.604604</td>\n",
       "      <td>0.0</td>\n",
       "      <td>1.0</td>\n",
       "    </tr>\n",
       "    <tr>\n",
       "      <th>1</th>\n",
       "      <td>0.529054</td>\n",
       "      <td>0.470946</td>\n",
       "      <td>0.0</td>\n",
       "      <td>1.0</td>\n",
       "    </tr>\n",
       "    <tr>\n",
       "      <th>2</th>\n",
       "      <td>0.866197</td>\n",
       "      <td>0.133803</td>\n",
       "      <td>1.0</td>\n",
       "      <td>0.0</td>\n",
       "    </tr>\n",
       "    <tr>\n",
       "      <th>3</th>\n",
       "      <td>0.790758</td>\n",
       "      <td>0.209242</td>\n",
       "      <td>1.0</td>\n",
       "      <td>0.0</td>\n",
       "    </tr>\n",
       "    <tr>\n",
       "      <th>4</th>\n",
       "      <td>0.910616</td>\n",
       "      <td>0.089384</td>\n",
       "      <td>1.0</td>\n",
       "      <td>0.0</td>\n",
       "    </tr>\n",
       "  </tbody>\n",
       "</table>\n",
       "</div>"
      ],
      "text/plain": [
       "   hbb_prediction  qcd_prediction  hbb_label  qcd_label\n",
       "0        0.395396        0.604604        0.0        1.0\n",
       "1        0.529054        0.470946        0.0        1.0\n",
       "2        0.866197        0.133803        1.0        0.0\n",
       "3        0.790758        0.209242        1.0        0.0\n",
       "4        0.910616        0.089384        1.0        0.0"
      ]
     },
     "execution_count": 69,
     "metadata": {},
     "output_type": "execute_result"
    }
   ],
   "source": [
    "dsnn_predictions.head()"
   ]
  },
  {
   "cell_type": "markdown",
   "id": "b673fa60",
   "metadata": {},
   "source": [
    "# loading q2 results"
   ]
  },
  {
   "cell_type": "markdown",
   "id": "d8dbddaf",
   "metadata": {},
   "source": [
    "### Graph NN "
   ]
  },
  {
   "cell_type": "code",
   "execution_count": 49,
   "id": "b6b2fd12",
   "metadata": {},
   "outputs": [],
   "source": [
    "graph_predictions = pd.read_csv(main_dir + '/GENConv_predictions.csv', index_col=False)"
   ]
  },
  {
   "cell_type": "code",
   "execution_count": 50,
   "id": "6292748f",
   "metadata": {},
   "outputs": [
    {
     "data": {
      "text/plain": [
       "(1889, 2)"
      ]
     },
     "execution_count": 50,
     "metadata": {},
     "output_type": "execute_result"
    }
   ],
   "source": [
    "graph_predictions.shape"
   ]
  },
  {
   "cell_type": "code",
   "execution_count": 51,
   "id": "fc6c6792",
   "metadata": {},
   "outputs": [],
   "source": [
    "graph_predictions = graph_predictions.iloc[:len(dsnn_predictions),:]"
   ]
  },
  {
   "cell_type": "code",
   "execution_count": 71,
   "id": "93872b3f",
   "metadata": {},
   "outputs": [
    {
     "data": {
      "text/html": [
       "<div>\n",
       "<style scoped>\n",
       "    .dataframe tbody tr th:only-of-type {\n",
       "        vertical-align: middle;\n",
       "    }\n",
       "\n",
       "    .dataframe tbody tr th {\n",
       "        vertical-align: top;\n",
       "    }\n",
       "\n",
       "    .dataframe thead th {\n",
       "        text-align: right;\n",
       "    }\n",
       "</style>\n",
       "<table border=\"1\" class=\"dataframe\">\n",
       "  <thead>\n",
       "    <tr style=\"text-align: right;\">\n",
       "      <th></th>\n",
       "      <th>hbb_prediction</th>\n",
       "      <th>hbb_label</th>\n",
       "    </tr>\n",
       "  </thead>\n",
       "  <tbody>\n",
       "    <tr>\n",
       "      <th>0</th>\n",
       "      <td>-8.443853</td>\n",
       "      <td>0</td>\n",
       "    </tr>\n",
       "    <tr>\n",
       "      <th>1</th>\n",
       "      <td>-14.679830</td>\n",
       "      <td>0</td>\n",
       "    </tr>\n",
       "    <tr>\n",
       "      <th>2</th>\n",
       "      <td>-5.623161</td>\n",
       "      <td>0</td>\n",
       "    </tr>\n",
       "    <tr>\n",
       "      <th>3</th>\n",
       "      <td>-7.973312</td>\n",
       "      <td>0</td>\n",
       "    </tr>\n",
       "    <tr>\n",
       "      <th>4</th>\n",
       "      <td>-9.264545</td>\n",
       "      <td>0</td>\n",
       "    </tr>\n",
       "  </tbody>\n",
       "</table>\n",
       "</div>"
      ],
      "text/plain": [
       "   hbb_prediction  hbb_label\n",
       "0       -8.443853          0\n",
       "1      -14.679830          0\n",
       "2       -5.623161          0\n",
       "3       -7.973312          0\n",
       "4       -9.264545          0"
      ]
     },
     "execution_count": 71,
     "metadata": {},
     "output_type": "execute_result"
    }
   ],
   "source": [
    "graph_predictions.head()"
   ]
  },
  {
   "cell_type": "markdown",
   "id": "36b98da0",
   "metadata": {},
   "source": [
    "## Evaluation / Comparison"
   ]
  },
  {
   "cell_type": "markdown",
   "id": "7fea230a",
   "metadata": {},
   "source": [
    "### Graph of AUC"
   ]
  },
  {
   "cell_type": "code",
   "execution_count": 63,
   "id": "35151e9e",
   "metadata": {},
   "outputs": [
    {
     "data": {
      "text/html": [
       "<div>\n",
       "<style scoped>\n",
       "    .dataframe tbody tr th:only-of-type {\n",
       "        vertical-align: middle;\n",
       "    }\n",
       "\n",
       "    .dataframe tbody tr th {\n",
       "        vertical-align: top;\n",
       "    }\n",
       "\n",
       "    .dataframe thead th {\n",
       "        text-align: right;\n",
       "    }\n",
       "</style>\n",
       "<table border=\"1\" class=\"dataframe\">\n",
       "  <thead>\n",
       "    <tr style=\"text-align: right;\">\n",
       "      <th></th>\n",
       "      <th>hbb_prediction</th>\n",
       "      <th>qcd prediction</th>\n",
       "      <th>hbb_label</th>\n",
       "      <th>qcd_label</th>\n",
       "    </tr>\n",
       "  </thead>\n",
       "  <tbody>\n",
       "    <tr>\n",
       "      <th>0</th>\n",
       "      <td>0.356889</td>\n",
       "      <td>0.643111</td>\n",
       "      <td>0.0</td>\n",
       "      <td>1.0</td>\n",
       "    </tr>\n",
       "    <tr>\n",
       "      <th>1</th>\n",
       "      <td>0.412856</td>\n",
       "      <td>0.587144</td>\n",
       "      <td>0.0</td>\n",
       "      <td>1.0</td>\n",
       "    </tr>\n",
       "    <tr>\n",
       "      <th>2</th>\n",
       "      <td>0.808863</td>\n",
       "      <td>0.191137</td>\n",
       "      <td>1.0</td>\n",
       "      <td>0.0</td>\n",
       "    </tr>\n",
       "    <tr>\n",
       "      <th>3</th>\n",
       "      <td>0.662966</td>\n",
       "      <td>0.337034</td>\n",
       "      <td>1.0</td>\n",
       "      <td>0.0</td>\n",
       "    </tr>\n",
       "    <tr>\n",
       "      <th>4</th>\n",
       "      <td>0.933967</td>\n",
       "      <td>0.066033</td>\n",
       "      <td>1.0</td>\n",
       "      <td>0.0</td>\n",
       "    </tr>\n",
       "    <tr>\n",
       "      <th>...</th>\n",
       "      <td>...</td>\n",
       "      <td>...</td>\n",
       "      <td>...</td>\n",
       "      <td>...</td>\n",
       "    </tr>\n",
       "    <tr>\n",
       "      <th>1446</th>\n",
       "      <td>0.930072</td>\n",
       "      <td>0.069928</td>\n",
       "      <td>1.0</td>\n",
       "      <td>0.0</td>\n",
       "    </tr>\n",
       "    <tr>\n",
       "      <th>1447</th>\n",
       "      <td>0.913461</td>\n",
       "      <td>0.086539</td>\n",
       "      <td>1.0</td>\n",
       "      <td>0.0</td>\n",
       "    </tr>\n",
       "    <tr>\n",
       "      <th>1448</th>\n",
       "      <td>0.745517</td>\n",
       "      <td>0.254483</td>\n",
       "      <td>0.0</td>\n",
       "      <td>1.0</td>\n",
       "    </tr>\n",
       "    <tr>\n",
       "      <th>1449</th>\n",
       "      <td>0.352504</td>\n",
       "      <td>0.647496</td>\n",
       "      <td>1.0</td>\n",
       "      <td>0.0</td>\n",
       "    </tr>\n",
       "    <tr>\n",
       "      <th>1450</th>\n",
       "      <td>0.990045</td>\n",
       "      <td>0.009955</td>\n",
       "      <td>1.0</td>\n",
       "      <td>0.0</td>\n",
       "    </tr>\n",
       "  </tbody>\n",
       "</table>\n",
       "<p>1451 rows × 4 columns</p>\n",
       "</div>"
      ],
      "text/plain": [
       "      hbb_prediction  qcd prediction  hbb_label  qcd_label\n",
       "0           0.356889        0.643111        0.0        1.0\n",
       "1           0.412856        0.587144        0.0        1.0\n",
       "2           0.808863        0.191137        1.0        0.0\n",
       "3           0.662966        0.337034        1.0        0.0\n",
       "4           0.933967        0.066033        1.0        0.0\n",
       "...              ...             ...        ...        ...\n",
       "1446        0.930072        0.069928        1.0        0.0\n",
       "1447        0.913461        0.086539        1.0        0.0\n",
       "1448        0.745517        0.254483        0.0        1.0\n",
       "1449        0.352504        0.647496        1.0        0.0\n",
       "1450        0.990045        0.009955        1.0        0.0\n",
       "\n",
       "[1451 rows x 4 columns]"
      ]
     },
     "execution_count": 63,
     "metadata": {},
     "output_type": "execute_result"
    }
   ],
   "source": [
    "dsnn_predictions"
   ]
  },
  {
   "cell_type": "code",
   "execution_count": 76,
   "id": "2c9dd4d5",
   "metadata": {
    "scrolled": true
   },
   "outputs": [
    {
     "data": {
      "image/png": "[encoded data removed]",
      "text/plain": [
       "<Figure size 720x720 with 1 Axes>"
      ]
     },
     "metadata": {
      "needs_background": "light"
     },
     "output_type": "display_data"
    }
   ],
   "source": [
    "from sklearn.metrics import roc_curve, auc\n",
    "import matplotlib.pyplot as plt\n",
    "import mplhep as hep\n",
    "plt.style.use(hep.style.ROOT)\n",
    "# create ROC curves\n",
    "fpr_gnn, tpr_gnn, threshold_gnn = roc_curve(graph_predictions['hbb_label'], graph_predictions['hbb_prediction'])\n",
    "fpr_fcnn, tpr_fcnn, threshold_fcnn = roc_curve(fcnn_predictions['hbb_label'], fcnn_predictions['hbb_prediction'] )\n",
    "fpr_dsnn, tpr_dsnn, threshold_dsnn = roc_curve(dsnn_predictions['hbb_label'], dsnn_predictions['hbb_prediction'])\n",
    "# plot ROC curves\n",
    "plt.figure()\n",
    "plt.plot(tpr_gnn, fpr_gnn, lw=2.5, label=\"GENConv GNN, AUC = {:.1f}%\".format(auc(fpr_gnn,tpr_gnn)*100), c = 'pink')\n",
    "plt.plot(tpr_fcnn, fpr_fcnn, lw=2.5, label=\"FCNN, AUC = {:.1f}%\".format(auc(fpr_fcnn,tpr_fcnn)*100), c = 'yellow')\n",
    "plt.plot(tpr_dsnn, fpr_dsnn, lw=2.5, label=\"DSNN, AUC = {:.1f}%\".format(auc(fpr_dsnn,tpr_dsnn)*100), c = 'orange')\n",
    "plt.xlabel(r'Tagging Efficiency (H->bb) - True Pos.')\n",
    "plt.ylabel(r'Mistagging Rate (QCD) - False Pos.')\n",
    "plt.title('ROC Curve')\n",
    "plt.semilogy()\n",
    "plt.ylim(0.001, 1)\n",
    "plt.xlim(0, 1)\n",
    "plt.grid(True)\n",
    "plt.legend(loc='upper left')\n",
    "plt.show()"
   ]
  },
  {
   "cell_type": "markdown",
   "id": "4f79f897",
   "metadata": {},
   "source": [
    "### Graph of ROC using DDT Procedure"
   ]
  },
  {
   "cell_type": "code",
   "execution_count": 112,
   "id": "27020c1f",
   "metadata": {},
   "outputs": [],
   "source": [
    "sys.path.insert(0, os.path.realpath('../../config'))"
   ]
  },
  {
   "cell_type": "code",
   "execution_count": 113,
   "id": "c35ba35a",
   "metadata": {},
   "outputs": [
    {
     "data": {
      "text/plain": [
       "['/home/baambriz/q2_code/config',\n",
       " '/home/baambriz/q2_code/src/analysis',\n",
       " '/opt/conda/lib/python39.zip',\n",
       " '/opt/conda/lib/python3.9',\n",
       " '/opt/conda/lib/python3.9/lib-dynload',\n",
       " '',\n",
       " '/home/baambriz/.local/lib/python3.9/site-packages',\n",
       " '/opt/conda/lib/python3.9/site-packages',\n",
       " '/opt/conda/lib/python3.9/site-packages/IPython/extensions',\n",
       " '/home/baambriz/.ipython']"
      ]
     },
     "execution_count": 113,
     "metadata": {},
     "output_type": "execute_result"
    }
   ],
   "source": [
    "sys.path"
   ]
  },
  {
   "cell_type": "code",
   "execution_count": 115,
   "id": "10f8a836",
   "metadata": {},
   "outputs": [],
   "source": [
    "from utils import find_nearest\n",
    "\n",
    "def find_nearest(array,value):\n",
    "    idx = (np.abs(array-value)).argmin()\n",
    "    return idx, array[idx]"
   ]
  },
  {
   "cell_type": "code",
   "execution_count": 117,
   "id": "cf64118d",
   "metadata": {},
   "outputs": [],
   "source": [
    "#DDT Procedure\n",
    "cutoff = 0.01\n",
    "idx_gnn, val_gnn = find_nearest(fpr_gnn, cutoff)\n",
    "idx_fcnn, val_fcnn = find_nearest(fpr_fcnn, cutoff)\n",
    "idx_dsnn, val_dsnn = find_nearest(fpr_dsnn, cutoff)\n",
    "label_test_gnn_ddt = graph_predictions['hbb_label'] * (graph_predictions['hbb_prediction'] > threshold_gnn[idx_gnn])\n",
    "label_test_fcnn_ddt = fcnn_predictions['hbb_label'] * (fcnn_predictions['hbb_prediction'] > threshold_fcnn[idx_fcnn])\n",
    "label_test_dsnn_ddt = dsnn_predictions['hbb_label'] * (dsnn_predictions['hbb_prediction'] > threshold_dsnn[idx_dsnn])\n",
    "\n",
    "fpr_gnn_ddt, tpr_gnn_ddt, threshold_gnn_ddt = roc_curve(label_test_gnn_ddt, graph_predictions['hbb_prediction'])\n",
    "fpr_fcnn_ddt, tpr_fcnn_ddt, threshold_fcnn_ddt = roc_curve(label_test_fcnn_ddt, fcnn_predictions['hbb_prediction'])\n",
    "fpr_dsnn_ddt, tpr_dsnn_ddt, threshold_dsnn_ddt = roc_curve(label_test_dsnn_ddt, dsnn_predictions['hbb_prediction'])\n"
   ]
  },
  {
   "cell_type": "code",
   "execution_count": 121,
   "id": "31aef8d4",
   "metadata": {},
   "outputs": [],
   "source": [
    "import yaml\n",
    "\n",
    "with open('../../config/definitions.yml') as file:\n",
    "    # The FullLoader parameter handles the conversion from YAML\n",
    "    # scalar values to Python the dictionary format\n",
    "    definitions = yaml.load(file, Loader=yaml.FullLoader)\n",
    "    \n",
    "features = definitions['features']\n",
    "spectators = definitions['spectators']\n",
    "labels = definitions['labels']\n",
    "\n",
    "nfeatures = definitions['nfeatures']\n",
    "nspectators = definitions['nspectators']\n",
    "nlabels = definitions['nlabels']\n",
    "ntracks = definitions['ntracks']"
   ]
  },
  {
   "cell_type": "code",
   "execution_count": 122,
   "id": "1430b067",
   "metadata": {},
   "outputs": [],
   "source": [
    "from DataGenerator import DataGenerator\n",
    "# load testing file\n",
    "test_files = ['~/teams/DSC180A_FA21_A00/a11/test/ntuple_merged_0.root']\n",
    "test_generator = DataGenerator(test_files, features, labels, spectators, batch_size=8192, n_dim=ntracks, \n",
    "                               remove_mass_pt_window=True, \n",
    "                               remove_unlabeled=True,\n",
    "                               return_spectators=True,\n",
    "                               max_entry=8192) # basically, no maximum"
   ]
  },
  {
   "cell_type": "code",
   "execution_count": 124,
   "id": "116d4710",
   "metadata": {},
   "outputs": [],
   "source": [
    "from tqdm.notebook import tqdm"
   ]
  },
  {
   "cell_type": "code",
   "execution_count": 126,
   "id": "1c1bc2ed",
   "metadata": {},
   "outputs": [
    {
     "data": {
      "application/vnd.jupyter.widget-view+json": {
       "model_id": "7b8c6ab9f85d40b9b25744d967202987",
       "version_major": 2,
       "version_minor": 0
      },
      "text/plain": [
       "  0%|          | 0/1 [00:00<?, ?it/s]"
      ]
     },
     "metadata": {},
     "output_type": "display_data"
    }
   ],
   "source": [
    "# run model inference on test data set\n",
    "predict_array_adv = []\n",
    "label_array_test = []\n",
    "spec_array_test = []\n",
    "\n",
    "for t in tqdm(test_generator, total=len(test_generator)):\n",
    "    label_array_test.append(t[1][0])\n",
    "    spec_array_test.append(t[1][1])\n",
    "    break"
   ]
  },
  {
   "cell_type": "code",
   "execution_count": null,
   "id": "9d91ef26",
   "metadata": {},
   "outputs": [],
   "source": [
    "plt.figure()\n",
    "for wp in [0.01]:\n",
    "    plt.hist(spec_array_test[:,0], bins=np.linspace(40, 200, 21), \n",
    "             weights= label_array_test[:, 0] * (predict_array_adv[:,0] > threshold_adv[idx_adv]),\n",
    "             alpha=0.4, density=True, color = 'red',label='Adversarial Network DDT, {}% FPR cut'.format(int(wp*100)),histtype='step')\n",
    "    plt.hist(spec_array_test[:,0], bins=np.linspace(40, 200, 21), \n",
    "             weights=predict_array_adv[:,1],\n",
    "             alpha=0.4, density=True, color = 'blue',label='Adversarial Network, {}% FPR cut'.format(int(wp*100)), histtype='step')\n",
    "    plt.hist(spec_array_test[:,0], bins=np.linspace(40, 200, 21), \n",
    "             weights=label_array_test[:,0],\n",
    "             alpha=0.4, density=True, color = 'blue', label='No Tagging Applied'.format(int(wp*100)))\n",
    "    plt.title(\"Background Jet Mass Distribution\")\n",
    "plt.legend(loc='lower left')\n",
    "plt.xlabel(r'$m_{SD}$')\n",
    "plt.ylabel(r'Normalized probability (QCD)')\n",
    "plt.xlim(40, 200)\n",
    "\n",
    "plt.figure()\n",
    "for wp in [0.01]:\n",
    "    idx, val = find_nearest(fpr_adv, wp)\n",
    "    plt.hist(spec_array_test[:,0], bins=np.linspace(40, 200, 21), \n",
    "             weights=label_array_test_adv_ddt,\n",
    "             alpha=0.4, density=True, color='red', label='Adversarial Network DDT, {}% FPR cut'.format(int(wp*100)),histtype='step')\n",
    "    plt.hist(spec_array_test[:,0], bins=np.linspace(40, 200, 21), \n",
    "             weights=predict_array_adv[:,0],\n",
    "             alpha=0.4, density=True, color = 'blue',label='Adversarial Network, {}% FPR cut'.format(int(wp*100)), histtype='step')\n",
    "    plt.hist(spec_array_test[:,0], bins=np.linspace(40, 200, 21), \n",
    "             weights=label_array_test[:,1],\n",
    "             alpha=0.4, density=True, color = 'blue', label='No Tagging Applied'.format(int(wp*100)))\n",
    "    plt.title(\"Signal Jet Mass Distribution\")\n",
    "plt.legend(loc='lower left')\n",
    "plt.xlabel(r'$m_{SD}$')\n",
    "plt.ylabel(r'Normalized probability (H-> bb)')\n",
    "plt.xlim(40, 200)\n",
    "plt.show()"
   ]
  }
 ],
 "metadata": {
  "kernelspec": {
   "display_name": "Python 3",
   "language": "python",
   "name": "python3"
  },
  "language_info": {
   "codemirror_mode": {
    "name": "ipython",
    "version": 3
   },
   "file_extension": ".py",
   "mimetype": "text/x-python",
   "name": "python",
   "nbconvert_exporter": "python",
   "pygments_lexer": "ipython3",
   "version": "3.9.4"
  }
 },
 "nbformat": 4,
 "nbformat_minor": 5
}
