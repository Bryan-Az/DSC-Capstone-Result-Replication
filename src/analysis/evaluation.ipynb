{
 "cells": [
  {
   "cell_type": "code",
   "execution_count": 5,
   "id": "27dde600",
   "metadata": {},
   "outputs": [],
   "source": [
    "import sys\n",
    "import os"
   ]
  },
  {
   "cell_type": "code",
   "execution_count": 10,
   "id": "69ed07bf",
   "metadata": {},
   "outputs": [],
   "source": [
    "curr_dir = sys.path[0]\n",
    "\n",
    "src_dir = os.path.abspath(os.path.join(curr_dir, os.pardir))\n",
    "main_dir = os.path.abspath(os.path.join(src_dir, os.pardir))\n",
    "notebooks_dir = os.path.join(main_dir, 'notebooks')"
   ]
  },
  {
   "cell_type": "code",
   "execution_count": 11,
   "id": "afb7b6c8",
   "metadata": {},
   "outputs": [
    {
     "name": "stdout",
     "output_type": "stream",
     "text": [
      "/home/baambriz/q2_code/src\n",
      "/home/baambriz/q2_code\n",
      "/home/baambriz/q2_code/notebooks\n"
     ]
    }
   ],
   "source": [
    "print(src_dir)\n",
    "print(main_dir)\n",
    "print(notebooks_dir)"
   ]
  },
  {
   "cell_type": "code",
   "execution_count": 12,
   "id": "f6bb16a8",
   "metadata": {},
   "outputs": [
    {
     "data": {
      "text/plain": [
       "['/home/baambriz/q2_code/src/analysis',\n",
       " '/opt/conda/lib/python39.zip',\n",
       " '/opt/conda/lib/python3.9',\n",
       " '/opt/conda/lib/python3.9/lib-dynload',\n",
       " '',\n",
       " '/home/baambriz/.local/lib/python3.9/site-packages',\n",
       " '/opt/conda/lib/python3.9/site-packages',\n",
       " '/opt/conda/lib/python3.9/site-packages/IPython/extensions',\n",
       " '/home/baambriz/.ipython']"
      ]
     },
     "execution_count": 12,
     "metadata": {},
     "output_type": "execute_result"
    }
   ],
   "source": [
    "sys.path"
   ]
  },
  {
   "cell_type": "markdown",
   "id": "24aa24df",
   "metadata": {},
   "source": [
    "TODO:  Using the checkpoints to load the models used and return output to be visualized"
   ]
  },
  {
   "cell_type": "code",
   "execution_count": 14,
   "id": "9a548db9",
   "metadata": {},
   "outputs": [],
   "source": [
    "import numpy as np\n",
    "import pandas as pd"
   ]
  },
  {
   "cell_type": "markdown",
   "id": "99c54241",
   "metadata": {},
   "source": [
    "# loading q1 results"
   ]
  },
  {
   "cell_type": "markdown",
   "id": "ec34d552",
   "metadata": {},
   "source": [
    "### Fully Connected NN"
   ]
  },
  {
   "cell_type": "code",
   "execution_count": 30,
   "id": "2c3421f8",
   "metadata": {},
   "outputs": [],
   "source": [
    "fcnn_predictions = pd.read_csv(main_dir + '/fcnn_predictions.csv', index_col = False)"
   ]
  },
  {
   "cell_type": "code",
   "execution_count": 31,
   "id": "0cda643c",
   "metadata": {},
   "outputs": [
    {
     "data": {
      "text/html": [
       "<div>\n",
       "<style scoped>\n",
       "    .dataframe tbody tr th:only-of-type {\n",
       "        vertical-align: middle;\n",
       "    }\n",
       "\n",
       "    .dataframe tbody tr th {\n",
       "        vertical-align: top;\n",
       "    }\n",
       "\n",
       "    .dataframe thead th {\n",
       "        text-align: right;\n",
       "    }\n",
       "</style>\n",
       "<table border=\"1\" class=\"dataframe\">\n",
       "  <thead>\n",
       "    <tr style=\"text-align: right;\">\n",
       "      <th></th>\n",
       "      <th>hbb_prediction</th>\n",
       "      <th>qcd prediction</th>\n",
       "      <th>hbb_label</th>\n",
       "      <th>qcd_label</th>\n",
       "    </tr>\n",
       "  </thead>\n",
       "  <tbody>\n",
       "    <tr>\n",
       "      <th>0</th>\n",
       "      <td>0.442031</td>\n",
       "      <td>0.557969</td>\n",
       "      <td>0.0</td>\n",
       "      <td>1.0</td>\n",
       "    </tr>\n",
       "    <tr>\n",
       "      <th>1</th>\n",
       "      <td>0.780242</td>\n",
       "      <td>0.219758</td>\n",
       "      <td>0.0</td>\n",
       "      <td>1.0</td>\n",
       "    </tr>\n",
       "    <tr>\n",
       "      <th>2</th>\n",
       "      <td>0.803030</td>\n",
       "      <td>0.196970</td>\n",
       "      <td>1.0</td>\n",
       "      <td>0.0</td>\n",
       "    </tr>\n",
       "    <tr>\n",
       "      <th>3</th>\n",
       "      <td>0.734925</td>\n",
       "      <td>0.265075</td>\n",
       "      <td>1.0</td>\n",
       "      <td>0.0</td>\n",
       "    </tr>\n",
       "    <tr>\n",
       "      <th>4</th>\n",
       "      <td>0.998344</td>\n",
       "      <td>0.001656</td>\n",
       "      <td>1.0</td>\n",
       "      <td>0.0</td>\n",
       "    </tr>\n",
       "    <tr>\n",
       "      <th>...</th>\n",
       "      <td>...</td>\n",
       "      <td>...</td>\n",
       "      <td>...</td>\n",
       "      <td>...</td>\n",
       "    </tr>\n",
       "    <tr>\n",
       "      <th>6293</th>\n",
       "      <td>0.934704</td>\n",
       "      <td>0.065296</td>\n",
       "      <td>1.0</td>\n",
       "      <td>0.0</td>\n",
       "    </tr>\n",
       "    <tr>\n",
       "      <th>6294</th>\n",
       "      <td>0.638185</td>\n",
       "      <td>0.361815</td>\n",
       "      <td>0.0</td>\n",
       "      <td>1.0</td>\n",
       "    </tr>\n",
       "    <tr>\n",
       "      <th>6295</th>\n",
       "      <td>0.921765</td>\n",
       "      <td>0.078235</td>\n",
       "      <td>0.0</td>\n",
       "      <td>1.0</td>\n",
       "    </tr>\n",
       "    <tr>\n",
       "      <th>6296</th>\n",
       "      <td>0.721061</td>\n",
       "      <td>0.278939</td>\n",
       "      <td>0.0</td>\n",
       "      <td>1.0</td>\n",
       "    </tr>\n",
       "    <tr>\n",
       "      <th>6297</th>\n",
       "      <td>0.994534</td>\n",
       "      <td>0.005466</td>\n",
       "      <td>1.0</td>\n",
       "      <td>0.0</td>\n",
       "    </tr>\n",
       "  </tbody>\n",
       "</table>\n",
       "<p>6298 rows × 4 columns</p>\n",
       "</div>"
      ],
      "text/plain": [
       "      hbb_prediction  qcd prediction  hbb_label  qcd_label\n",
       "0           0.442031        0.557969        0.0        1.0\n",
       "1           0.780242        0.219758        0.0        1.0\n",
       "2           0.803030        0.196970        1.0        0.0\n",
       "3           0.734925        0.265075        1.0        0.0\n",
       "4           0.998344        0.001656        1.0        0.0\n",
       "...              ...             ...        ...        ...\n",
       "6293        0.934704        0.065296        1.0        0.0\n",
       "6294        0.638185        0.361815        0.0        1.0\n",
       "6295        0.921765        0.078235        0.0        1.0\n",
       "6296        0.721061        0.278939        0.0        1.0\n",
       "6297        0.994534        0.005466        1.0        0.0\n",
       "\n",
       "[6298 rows x 4 columns]"
      ]
     },
     "execution_count": 31,
     "metadata": {},
     "output_type": "execute_result"
    }
   ],
   "source": [
    "fcnn_predictions"
   ]
  },
  {
   "cell_type": "markdown",
   "id": "29183b01",
   "metadata": {},
   "source": [
    "### Deep Sets NN"
   ]
  },
  {
   "cell_type": "code",
   "execution_count": 27,
   "id": "d44af0ae",
   "metadata": {},
   "outputs": [],
   "source": [
    "dsnn_predictions = pd.read_csv(main_dir + '/dsnn_predictions.csv', index_col=False)"
   ]
  },
  {
   "cell_type": "code",
   "execution_count": 28,
   "id": "7fd50da6",
   "metadata": {},
   "outputs": [
    {
     "data": {
      "text/html": [
       "<div>\n",
       "<style scoped>\n",
       "    .dataframe tbody tr th:only-of-type {\n",
       "        vertical-align: middle;\n",
       "    }\n",
       "\n",
       "    .dataframe tbody tr th {\n",
       "        vertical-align: top;\n",
       "    }\n",
       "\n",
       "    .dataframe thead th {\n",
       "        text-align: right;\n",
       "    }\n",
       "</style>\n",
       "<table border=\"1\" class=\"dataframe\">\n",
       "  <thead>\n",
       "    <tr style=\"text-align: right;\">\n",
       "      <th></th>\n",
       "      <th>hbb_prediction</th>\n",
       "      <th>qcd prediction</th>\n",
       "      <th>hbb_label</th>\n",
       "      <th>qcd_label</th>\n",
       "    </tr>\n",
       "  </thead>\n",
       "  <tbody>\n",
       "    <tr>\n",
       "      <th>0</th>\n",
       "      <td>0.521441</td>\n",
       "      <td>0.478559</td>\n",
       "      <td>0.0</td>\n",
       "      <td>1.0</td>\n",
       "    </tr>\n",
       "    <tr>\n",
       "      <th>1</th>\n",
       "      <td>0.578373</td>\n",
       "      <td>0.421627</td>\n",
       "      <td>0.0</td>\n",
       "      <td>1.0</td>\n",
       "    </tr>\n",
       "    <tr>\n",
       "      <th>2</th>\n",
       "      <td>0.862276</td>\n",
       "      <td>0.137724</td>\n",
       "      <td>1.0</td>\n",
       "      <td>0.0</td>\n",
       "    </tr>\n",
       "    <tr>\n",
       "      <th>3</th>\n",
       "      <td>0.724772</td>\n",
       "      <td>0.275228</td>\n",
       "      <td>1.0</td>\n",
       "      <td>0.0</td>\n",
       "    </tr>\n",
       "    <tr>\n",
       "      <th>4</th>\n",
       "      <td>0.887631</td>\n",
       "      <td>0.112369</td>\n",
       "      <td>1.0</td>\n",
       "      <td>0.0</td>\n",
       "    </tr>\n",
       "    <tr>\n",
       "      <th>...</th>\n",
       "      <td>...</td>\n",
       "      <td>...</td>\n",
       "      <td>...</td>\n",
       "      <td>...</td>\n",
       "    </tr>\n",
       "    <tr>\n",
       "      <th>6293</th>\n",
       "      <td>0.894830</td>\n",
       "      <td>0.105170</td>\n",
       "      <td>1.0</td>\n",
       "      <td>0.0</td>\n",
       "    </tr>\n",
       "    <tr>\n",
       "      <th>6294</th>\n",
       "      <td>0.508380</td>\n",
       "      <td>0.491620</td>\n",
       "      <td>0.0</td>\n",
       "      <td>1.0</td>\n",
       "    </tr>\n",
       "    <tr>\n",
       "      <th>6295</th>\n",
       "      <td>0.663219</td>\n",
       "      <td>0.336781</td>\n",
       "      <td>0.0</td>\n",
       "      <td>1.0</td>\n",
       "    </tr>\n",
       "    <tr>\n",
       "      <th>6296</th>\n",
       "      <td>0.619102</td>\n",
       "      <td>0.380898</td>\n",
       "      <td>0.0</td>\n",
       "      <td>1.0</td>\n",
       "    </tr>\n",
       "    <tr>\n",
       "      <th>6297</th>\n",
       "      <td>0.878828</td>\n",
       "      <td>0.121172</td>\n",
       "      <td>1.0</td>\n",
       "      <td>0.0</td>\n",
       "    </tr>\n",
       "  </tbody>\n",
       "</table>\n",
       "<p>6298 rows × 4 columns</p>\n",
       "</div>"
      ],
      "text/plain": [
       "      hbb_prediction  qcd prediction  hbb_label  qcd_label\n",
       "0           0.521441        0.478559        0.0        1.0\n",
       "1           0.578373        0.421627        0.0        1.0\n",
       "2           0.862276        0.137724        1.0        0.0\n",
       "3           0.724772        0.275228        1.0        0.0\n",
       "4           0.887631        0.112369        1.0        0.0\n",
       "...              ...             ...        ...        ...\n",
       "6293        0.894830        0.105170        1.0        0.0\n",
       "6294        0.508380        0.491620        0.0        1.0\n",
       "6295        0.663219        0.336781        0.0        1.0\n",
       "6296        0.619102        0.380898        0.0        1.0\n",
       "6297        0.878828        0.121172        1.0        0.0\n",
       "\n",
       "[6298 rows x 4 columns]"
      ]
     },
     "execution_count": 28,
     "metadata": {},
     "output_type": "execute_result"
    }
   ],
   "source": [
    "dsnn_predictions"
   ]
  },
  {
   "cell_type": "markdown",
   "id": "b673fa60",
   "metadata": {},
   "source": [
    "# loading q2 results"
   ]
  },
  {
   "cell_type": "markdown",
   "id": "d8dbddaf",
   "metadata": {},
   "source": [
    "### Graph NN "
   ]
  },
  {
   "cell_type": "code",
   "execution_count": 20,
   "id": "b6b2fd12",
   "metadata": {},
   "outputs": [],
   "source": [
    "graph_predictions = pd.read_csv(main_dir + '/GENConv_predictions.csv', index_col=False)"
   ]
  },
  {
   "cell_type": "code",
   "execution_count": 22,
   "id": "7f50db4d",
   "metadata": {},
   "outputs": [],
   "source": [
    "graph_predictions = graph_predictions.to_numpy()"
   ]
  },
  {
   "cell_type": "code",
   "execution_count": 23,
   "id": "6292748f",
   "metadata": {},
   "outputs": [
    {
     "data": {
      "text/plain": [
       "array([[ -8.443853 ],\n",
       "       [-14.67983  ],\n",
       "       [ -5.623162 ],\n",
       "       ...,\n",
       "       [-10.7989435],\n",
       "       [-14.898462 ],\n",
       "       [ -3.807295 ]])"
      ]
     },
     "execution_count": 23,
     "metadata": {},
     "output_type": "execute_result"
    }
   ],
   "source": [
    "graph_predictions"
   ]
  },
  {
   "cell_type": "markdown",
   "id": "36b98da0",
   "metadata": {},
   "source": [
    "## Evaluation / Comparison"
   ]
  },
  {
   "cell_type": "code",
   "execution_count": null,
   "id": "2c9dd4d5",
   "metadata": {},
   "outputs": [],
   "source": []
  }
 ],
 "metadata": {
  "kernelspec": {
   "display_name": "Python 3",
   "language": "python",
   "name": "python3"
  },
  "language_info": {
   "codemirror_mode": {
    "name": "ipython",
    "version": 3
   },
   "file_extension": ".py",
   "mimetype": "text/x-python",
   "name": "python",
   "nbconvert_exporter": "python",
   "pygments_lexer": "ipython3",
   "version": "3.9.4"
  }
 },
 "nbformat": 4,
 "nbformat_minor": 5
}
