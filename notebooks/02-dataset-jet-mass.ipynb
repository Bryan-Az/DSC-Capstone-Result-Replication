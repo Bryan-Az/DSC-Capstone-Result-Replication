{
 "cells": [
  {
   "cell_type": "code",
   "execution_count": 2,
   "id": "e4da27ea",
   "metadata": {},
   "outputs": [],
   "source": [
    "import uproot\n",
    "import numpy as np\n",
    "f = uproot.open('/teams/DSC180A_FA21_A00/a11/train_mass_hbb/BulkGravitonToHHTo4Q_MX-600to6000_MH-15to250_part1_TuneCP5_13TeV-madgraph_pythia8/nano_mc2017_1-1_Skim.root')"
   ]
  },
  {
   "cell_type": "code",
   "execution_count": 3,
   "id": "7ddfd762",
   "metadata": {},
   "outputs": [],
   "source": [
    "tree = f['Events']"
   ]
  },
  {
   "cell_type": "code",
   "execution_count": 4,
   "id": "f4a9080f",
   "metadata": {},
   "outputs": [
    {
     "name": "stdout",
     "output_type": "stream",
     "text": [
      "name                 | typename                 | interpretation                \n",
      "---------------------+--------------------------+-------------------------------\n",
      "fj_idx               | int32_t                  | AsDtype('>i4')\n",
      "fj_pt                | float                    | AsDtype('>f4')\n",
      "fj_eta               | float                    | AsDtype('>f4')\n",
      "fj_phi               | float                    | AsDtype('>f4')\n",
      "fj_mass              | float                    | AsDtype('>f4')\n",
      "fj_msoftdrop         | float                    | AsDtype('>f4')\n",
      "fj_lsf3              | float                    | AsDtype('>f4')\n",
      "fj_deepTagMD_H4qv... | float                    | AsDtype('>f4')\n",
      "fj_deepTag_HvsQCD    | float                    | AsDtype('>f4')\n",
      "fj_PN_H4qvsQCD       | float                    | AsDtype('>f4')\n",
      "fj_PN_XbbvsQCD       | float                    | AsDtype('>f4')\n",
      "fj_genjetmsd         | float                    | AsDtype('>f4')\n",
      "fj_genjetmass        | float                    | AsDtype('>f4')\n",
      "fj_isQCDb            | int32_t                  | AsDtype('>i4')\n",
      "fj_isQCDbb           | int32_t                  | AsDtype('>i4')\n",
      "fj_isQCDc            | int32_t                  | AsDtype('>i4')\n",
      "fj_isQCDcc           | int32_t                  | AsDtype('>i4')\n",
      "fj_isQCDlep          | int32_t                  | AsDtype('>i4')\n",
      "fj_isQCDothers       | int32_t                  | AsDtype('>i4')\n",
      "fj_isTop             | int32_t                  | AsDtype('>i4')\n",
      "fj_isToplep          | int32_t                  | AsDtype('>i4')\n",
      "fj_isW               | int32_t                  | AsDtype('>i4')\n",
      "fj_isWlep            | int32_t                  | AsDtype('>i4')\n",
      "fj_isZ               | int32_t                  | AsDtype('>i4')\n",
      "fj_H_bb              | int32_t                  | AsDtype('>i4')\n",
      "fj_H_cc              | int32_t                  | AsDtype('>i4')\n",
      "fj_H_qq              | int32_t                  | AsDtype('>i4')\n",
      "fj_H_WW_4q           | int32_t                  | AsDtype('>i4')\n",
      "fj_H_WW_elenuqq      | int32_t                  | AsDtype('>i4')\n",
      "fj_H_WW_munuqq       | int32_t                  | AsDtype('>i4')\n",
      "fj_H_WW_taunuqq      | int32_t                  | AsDtype('>i4')\n",
      "fj_H_tt_elenuhad     | int32_t                  | AsDtype('>i4')\n",
      "fj_H_tt_munuhad      | int32_t                  | AsDtype('>i4')\n",
      "fj_H_tt_hadhad       | int32_t                  | AsDtype('>i4')\n",
      "fj_nProngs           | int32_t                  | AsDtype('>i4')\n",
      "fj_genRes_mass       | float                    | AsDtype('>f4')\n",
      "fj_genRes_pt         | float                    | AsDtype('>f4')\n",
      "fj_dR_W              | float                    | AsDtype('>f4')\n",
      "fj_genW_pt           | float                    | AsDtype('>f4')\n",
      "fj_genW_eta          | float                    | AsDtype('>f4')\n",
      "fj_genW_phi          | float                    | AsDtype('>f4')\n",
      "fj_genW_mass         | float                    | AsDtype('>f4')\n",
      "fj_dR_Wstar          | float                    | AsDtype('>f4')\n",
      "fj_genWstar_pt       | float                    | AsDtype('>f4')\n",
      "fj_genWstar_eta      | float                    | AsDtype('>f4')\n",
      "fj_genWstar_phi      | float                    | AsDtype('>f4')\n",
      "fj_genWstar_mass     | float                    | AsDtype('>f4')\n",
      "fj_mindR_HWW_daus    | float                    | AsDtype('>f4')\n",
      "fj_maxdR_HWW_daus    | float                    | AsDtype('>f4')\n",
      "fj_maxdR_Hbb_daus    | float                    | AsDtype('>f4')\n",
      "fj_genW_decay        | float                    | AsDtype('>f4')\n",
      "fj_genWstar_decay    | float                    | AsDtype('>f4')\n",
      "fj_evt_met_covxx     | float                    | AsDtype('>f4')\n",
      "fj_evt_met_covxy     | float                    | AsDtype('>f4')\n",
      "fj_evt_met_covyy     | float                    | AsDtype('>f4')\n",
      "fj_evt_met_dphi      | float                    | AsDtype('>f4')\n",
      "fj_evt_met_pt        | float                    | AsDtype('>f4')\n",
      "fj_evt_met_sig       | float                    | AsDtype('>f4')\n",
      "fj_evt_pupmet_pt     | float                    | AsDtype('>f4')\n",
      "fj_evt_pupmet_dphi   | float                    | AsDtype('>f4')\n",
      "pfcand_pt_log_nop... | float[100]               | AsDtype(\"('>f4', (100,))\")\n",
      "pfcand_e_log_nopuppi | float[100]               | AsDtype(\"('>f4', (100,))\")\n",
      "pfcand_etarel        | float[100]               | AsDtype(\"('>f4', (100,))\")\n",
      "pfcand_phirel        | float[100]               | AsDtype(\"('>f4', (100,))\")\n",
      "pfcand_abseta        | float[100]               | AsDtype(\"('>f4', (100,))\")\n",
      "pfcand_charge        | float[100]               | AsDtype(\"('>f4', (100,))\")\n",
      "pfcand_isMu          | float[100]               | AsDtype(\"('>f4', (100,))\")\n",
      "pfcand_isEl          | float[100]               | AsDtype(\"('>f4', (100,))\")\n",
      "pfcand_isChargedHad  | float[100]               | AsDtype(\"('>f4', (100,))\")\n",
      "pfcand_isGamma       | float[100]               | AsDtype(\"('>f4', (100,))\")\n",
      "pfcand_isNeutralHad  | float[100]               | AsDtype(\"('>f4', (100,))\")\n",
      "pfcand_VTX_ass       | float[100]               | AsDtype(\"('>f4', (100,))\")\n",
      "pfcand_lostInnerHits | float[100]               | AsDtype(\"('>f4', (100,))\")\n",
      "pfcand_normchi2      | float[100]               | AsDtype(\"('>f4', (100,))\")\n",
      "pfcand_quality       | float[100]               | AsDtype(\"('>f4', (100,))\")\n",
      "pfcand_dz            | float[100]               | AsDtype(\"('>f4', (100,))\")\n",
      "pfcand_dzsig         | float[100]               | AsDtype(\"('>f4', (100,))\")\n",
      "pfcand_dxy           | float[100]               | AsDtype(\"('>f4', (100,))\")\n",
      "pfcand_dxysig        | float[100]               | AsDtype(\"('>f4', (100,))\")\n",
      "sv_pt_log            | float[7]                 | AsDtype(\"('>f4', (7,))\")\n",
      "sv_mass              | float[7]                 | AsDtype(\"('>f4', (7,))\")\n",
      "sv_etarel            | float[7]                 | AsDtype(\"('>f4', (7,))\")\n",
      "sv_phirel            | float[7]                 | AsDtype(\"('>f4', (7,))\")\n",
      "sv_abseta            | float[7]                 | AsDtype(\"('>f4', (7,))\")\n",
      "sv_ntracks           | float[7]                 | AsDtype(\"('>f4', (7,))\")\n",
      "sv_normchi2          | float[7]                 | AsDtype(\"('>f4', (7,))\")\n",
      "sv_dxy               | float[7]                 | AsDtype(\"('>f4', (7,))\")\n",
      "sv_dxysig            | float[7]                 | AsDtype(\"('>f4', (7,))\")\n",
      "sv_d3d               | float[7]                 | AsDtype(\"('>f4', (7,))\")\n",
      "sv_d3dsig            | float[7]                 | AsDtype(\"('>f4', (7,))\")\n",
      "sv_costhetasvpv      | float[7]                 | AsDtype(\"('>f4', (7,))\")\n"
     ]
    }
   ],
   "source": [
    "tree.show()"
   ]
  },
  {
   "cell_type": "code",
   "execution_count": 5,
   "id": "d9d8ab75",
   "metadata": {},
   "outputs": [],
   "source": [
    "# Returns a dictionary\n",
    "features = tree.arrays(['fj_msoftdrop',\n",
    "                        'fj_pt',\n",
    "                        'fj_eta'], \n",
    "                       entry_stop=200000,\n",
    "                       library='np')\n",
    "\n",
    "labels = tree.arrays(['fj_genjetmsd',\n",
    "                      'fj_genRes_mass',\n",
    "                      'fj_H_bb'],\n",
    "                     entry_stop=200000,                \n",
    "                     library='np')"
   ]
  },
  {
   "cell_type": "code",
   "execution_count": 6,
   "id": "c2ba405e",
   "metadata": {},
   "outputs": [],
   "source": [
    "# selection for plots (Hbb, pT > 500, mSD > 40, |eta| < 2.5, gen_res_mass > 40)\n",
    "selection =  labels['fj_H_bb'] * (features['fj_pt'] > 500) * (features['fj_msoftdrop'] > 40) * (labels['fj_genRes_mass'] > 40) * (np.abs(features['fj_eta']) < 2.5)\n"
   ]
  },
  {
   "cell_type": "code",
   "execution_count": 7,
   "id": "024b7b40",
   "metadata": {},
   "outputs": [
    {
     "data": {
      "text/plain": [
       "array([0, 1, 0, ..., 1, 0, 0], dtype=int32)"
      ]
     },
     "execution_count": 7,
     "metadata": {},
     "output_type": "execute_result"
    }
   ],
   "source": [
    "labels['fj_H_bb']"
   ]
  },
  {
   "cell_type": "code",
   "execution_count": 6,
   "id": "af502488",
   "metadata": {},
   "outputs": [
    {
     "data": {
      "image/png": "[encoded data removed]",
      "text/plain": [
       "<Figure size 432x288 with 1 Axes>"
      ]
     },
     "metadata": {
      "needs_background": "light"
     },
     "output_type": "display_data"
    }
   ],
   "source": [
    "import matplotlib.pyplot as plt\n",
    "\n",
    "plt.figure()\n",
    "\n",
    "# reconstructed soft drop mass, see https://arxiv.org/abs/1402.2657\n",
    "plt.hist(features['fj_msoftdrop'],\n",
    "         weights=selection,\n",
    "         bins=np.linspace(0,300,101),\n",
    "         alpha=0.7,\n",
    "         label='Hbb soft drop mass')\n",
    "\n",
    "# generator-level soft drop mass (based on generator-level particles in the jet, i.e. before any detector intractions)\n",
    "plt.hist(labels['fj_genjetmsd'],\n",
    "         weights=selection,\n",
    "         bins=np.linspace(0,300,101),\n",
    "         alpha=0.7,\n",
    "         label='Hbb generator soft drop jet mass')\n",
    "\n",
    "# generator-level resonance mass (based on the real particle before it decayed)\n",
    "plt.hist(labels['fj_genRes_mass'],\n",
    "         weights=selection,\n",
    "         bins=np.linspace(0,300,101),\n",
    "         alpha=0.7,\n",
    "         label='Hbb generator resonance mass')\n",
    "\n",
    "plt.xlabel(r'Jet $m_{SD}$ [GeV]')\n",
    "plt.ylabel('Number of jets')\n",
    "plt.legend()\n",
    "plt.show()"
   ]
  },
  {
   "cell_type": "code",
   "execution_count": 7,
   "id": "11b1be56",
   "metadata": {},
   "outputs": [
    {
     "data": {
      "image/png": "[encoded data removed]",
      "text/plain": [
       "<Figure size 432x288 with 1 Axes>"
      ]
     },
     "metadata": {
      "needs_background": "light"
     },
     "output_type": "display_data"
    }
   ],
   "source": [
    "plt.figure()\n",
    "\n",
    "# standard resolution is defined like this\n",
    "res_softdrop = (features['fj_msoftdrop'] - labels['fj_genRes_mass'])/labels['fj_genRes_mass']\n",
    "\n",
    "# let's restrict to -1 and 1\n",
    "mask = (res_softdrop > -1) & (res_softdrop < 1)\n",
    "\n",
    "# ideally the mean should be ~0 and the standard deviation should be as small as possible\n",
    "mean = np.mean(res_softdrop[mask])\n",
    "std = np.std(res_softdrop[mask])\n",
    "\n",
    "plt.hist(res_softdrop,\n",
    "         weights=selection,\n",
    "         bins=np.linspace(-1,1,101),\n",
    "         alpha=0.7,\n",
    "         label=f'Hbb soft drop mass resolution\\nmean={mean:.2f}, std={std:.2f}')\n",
    "\n",
    "\n",
    "plt.xlabel(r'Jet $m_{SD}$ [GeV]')\n",
    "plt.ylabel('Number of jets')\n",
    "plt.legend()\n",
    "plt.show()"
   ]
  },
  {
   "cell_type": "markdown",
   "id": "c7fc9760",
   "metadata": {},
   "source": [
    "So the soft drop mass for H(bb) jets in this mass and pT range has a \"bias\" of -20% and a resolution of about 37%.\n",
    "\n",
    "The project goal is to create a NN based on PF canddiate information that achieves better resolutino "
   ]
  },
  {
   "cell_type": "code",
   "execution_count": null,
   "id": "35ed435b",
   "metadata": {},
   "outputs": [],
   "source": []
  }
 ],
 "metadata": {
  "kernelspec": {
   "display_name": "Python 3",
   "language": "python",
   "name": "python3"
  },
  "language_info": {
   "codemirror_mode": {
    "name": "ipython",
    "version": 3
   },
   "file_extension": ".py",
   "mimetype": "text/x-python",
   "name": "python",
   "nbconvert_exporter": "python",
   "pygments_lexer": "ipython3",
   "version": "3.9.4"
  }
 },
 "nbformat": 4,
 "nbformat_minor": 5
}
